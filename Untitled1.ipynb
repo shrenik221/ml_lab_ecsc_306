{
 "cells": [
  {
   "cell_type": "code",
   "execution_count": 16,
   "metadata": {},
   "outputs": [
    {
     "name": "stdout",
     "output_type": "stream",
     "text": [
      "Enter how many elements you want in x:2\n",
      "Enter numbers in array: \n",
      "num :2.34\n",
      "num :4.56\n",
      "ARRAY of X:  [2.34, 4.56]\n",
      "Enter how many elements you want in y:2\n",
      "Enter numbers in array: \n",
      "num :1\n",
      "num :qw\n"
     ]
    },
    {
     "ename": "ValueError",
     "evalue": "could not convert string to float: 'qw'",
     "output_type": "error",
     "traceback": [
      "\u001b[0;31m---------------------------------------------------------------------------\u001b[0m",
      "\u001b[0;31mValueError\u001b[0m                                Traceback (most recent call last)",
      "\u001b[0;32m<ipython-input-16-7d83c4236f7f>\u001b[0m in \u001b[0;36m<module>\u001b[0;34m()\u001b[0m\n\u001b[1;32m     12\u001b[0m \u001b[0mprint\u001b[0m \u001b[0;34m(\u001b[0m\u001b[0;34m'Enter numbers in array: '\u001b[0m\u001b[0;34m)\u001b[0m\u001b[0;34m\u001b[0m\u001b[0m\n\u001b[1;32m     13\u001b[0m \u001b[0;32mfor\u001b[0m \u001b[0mj\u001b[0m \u001b[0;32min\u001b[0m \u001b[0mrange\u001b[0m\u001b[0;34m(\u001b[0m\u001b[0mint\u001b[0m\u001b[0;34m(\u001b[0m\u001b[0mnum1\u001b[0m\u001b[0;34m)\u001b[0m\u001b[0;34m)\u001b[0m\u001b[0;34m:\u001b[0m\u001b[0;34m\u001b[0m\u001b[0m\n\u001b[0;32m---> 14\u001b[0;31m     \u001b[0mn1\u001b[0m \u001b[0;34m=\u001b[0m \u001b[0mfloat\u001b[0m\u001b[0;34m(\u001b[0m\u001b[0minput\u001b[0m\u001b[0;34m(\u001b[0m\u001b[0;34m\"num :\"\u001b[0m\u001b[0;34m)\u001b[0m\u001b[0;34m)\u001b[0m\u001b[0;34m\u001b[0m\u001b[0m\n\u001b[0m\u001b[1;32m     15\u001b[0m     \u001b[0mnum_array2\u001b[0m\u001b[0;34m.\u001b[0m\u001b[0mappend\u001b[0m\u001b[0;34m(\u001b[0m\u001b[0mfloat\u001b[0m\u001b[0;34m(\u001b[0m\u001b[0mn1\u001b[0m\u001b[0;34m)\u001b[0m\u001b[0;34m)\u001b[0m\u001b[0;34m\u001b[0m\u001b[0m\n\u001b[1;32m     16\u001b[0m \u001b[0mprint\u001b[0m \u001b[0;34m(\u001b[0m\u001b[0;34m'ARRAY of Y: '\u001b[0m\u001b[0;34m,\u001b[0m\u001b[0mnum_array2\u001b[0m\u001b[0;34m)\u001b[0m\u001b[0;34m\u001b[0m\u001b[0m\n",
      "\u001b[0;31mValueError\u001b[0m: could not convert string to float: 'qw'"
     ]
    }
   ],
   "source": [
    "def sq(num):\n",
    "    return num**2\n",
    "num_array = list()\n",
    "num = int(input(\"Enter how many elements you want in x:\"))\n",
    "print ('Enter numbers in array: ')\n",
    "for i in range(int(num)):\n",
    "    n = float(input(\"num :\"))\n",
    "    num_array.append(float(n))    \n",
    "print ('ARRAY of X: ',num_array)\n",
    "num_array2 = list()\n",
    "num1 = int(input(\"Enter how many elements you want in y:\"))\n",
    "print ('Enter numbers in array: ')\n",
    "for j in range(int(num1)):\n",
    "    n1 = float(input(\"num :\"))\n",
    "    num_array2.append(float(n1))\n",
    "print ('ARRAY of Y: ',num_array2)\n",
    "if num != num1 :\n",
    "   print('No.of values in both arrays are not matching')\n",
    "   quit()\n",
    "else:\n",
    "    for k in range(int(num2)):\n",
    "        mean_y=mean_y+num_array2[k]\n",
    "    mean_y=(mean_y/num2) \n",
    "    for l in range(int(num)):\n",
    "        mean_x=mean_x+num_array[l]\n",
    "    mean_x=(mean_x/num) \n",
    "    ## Calculate variance for x\n",
    "    ##$$variance(x)=sum((x-mean(x))^2)$$\n",
    "    for m in range(int(num)):\n",
    "        variance_x=variance_x +(num_array[m]-sq(mean_x))\n",
    "    for q in range(int(num)):\n",
    "        variance_y=variance_y +(num_array2[q]-sq(mean_y)) \n",
    "    ##Calculate covariance of x & y\n",
    "    ##$$covariance = sum((x(i) - mean(x)) * (y(i) - mean(y)))$$    \n",
    "    for jk in range(int(num)):\n",
    "         covariance_xy = covariance_xy + multiply((num_array[jk]-mean_x),(num_array2[jk]-mean_y))\n",
    "    covariance_xy=covariance_xy/(num-1)\n",
    "    ## Slope\n",
    "    for fr in range(int(num)):\n",
    "        slp = (covariance_xy/variance_x)\n",
    "    ##Calculate value of c\n",
    "    ## $$c = mean(y) -m* mean(x)$$ \n",
    "        intercept = mean_y - multiply(slp,mean_x)"
   ]
  },
  {
   "cell_type": "markdown",
   "metadata": {},
   "source": [
    "# "
   ]
  }
 ],
 "metadata": {
  "kernelspec": {
   "display_name": "Python 3",
   "language": "python",
   "name": "python3"
  },
  "language_info": {
   "codemirror_mode": {
    "name": "ipython",
    "version": 3
   },
   "file_extension": ".py",
   "mimetype": "text/x-python",
   "name": "python",
   "nbconvert_exporter": "python",
   "pygments_lexer": "ipython3",
   "version": "3.6.1"
  }
 },
 "nbformat": 4,
 "nbformat_minor": 2
}
