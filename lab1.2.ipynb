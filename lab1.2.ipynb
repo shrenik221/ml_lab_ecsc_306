{
 "cells": [
  {
   "cell_type": "code",
   "execution_count": 16,
   "metadata": {},
   "outputs": [
    {
     "name": "stdout",
     "output_type": "stream",
     "text": [
      "Enter the values of a2\n",
      "Enter the values of b2\n",
      "Enter the values of c2\n",
      "4\n"
     ]
    }
   ],
   "source": [
    "\n",
    "def skull(n1,n2):\n",
    "    x=2*n1\n",
    "    return n2*x\n",
    "def subt(n3,n4):\n",
    "      return (-(n3)-(n4))\n",
    "def square(n):\n",
    "           return n**2\n",
    "import tensorflow as t\n",
    "t.reset_default_graph\n",
    "with t.name_scope(\"A_Square\"):\n",
    "    a = int(input(\"Enter the values of a\"))\n",
    "    sq_a=square(a);\n",
    "\n",
    "with t.name_scope(\"B_Square\"):\n",
    "     b = int(input(\"Enter the values of b\"))\n",
    "     sq_b=square(b);  \n",
    "with t.name_scope(\"C_Square\"):\n",
    "    c = int(input(\"Enter the values of c\"))\n",
    "    sq_c=square(c)\n",
    "with t.name_scope(\"2ab\"):\n",
    "      e = skull(a,b)\n",
    "with t.name_scope(\"2bc\"):\n",
    "      i = skull(b,c)\n",
    "with t.name_scope(\"2ca\"):\n",
    "    j = skull(c,a)\n",
    "\n",
    "with t.name_scope(\"A_negB_C_Square\"):\n",
    "    g = t.add(sq_a,sq_b)\n",
    "    h = t.add(g, sq_c)\n",
    "    l = subt(e,i)  \n",
    "    k = t.add(h,j)\n",
    "    m = t.add(l,k)\n",
    "                  \n",
    "with t.Session() as sess: \n",
    "       writer = t.summary.FileWriter(\"/tmp/tboard/output3\", sess.graph)\n",
    "       print(sess.run(m))\n",
    "       writer.close()\n",
    "\n"
   ]
  },
  {
   "cell_type": "code",
   "execution_count": null,
   "metadata": {
    "collapsed": true
   },
   "outputs": [],
   "source": []
  },
  {
   "cell_type": "code",
   "execution_count": null,
   "metadata": {
    "collapsed": true
   },
   "outputs": [],
   "source": []
  }
 ],
 "metadata": {
  "kernelspec": {
   "display_name": "Python 3",
   "language": "python",
   "name": "python3"
  },
  "language_info": {
   "codemirror_mode": {
    "name": "ipython",
    "version": 3
   },
   "file_extension": ".py",
   "mimetype": "text/x-python",
   "name": "python",
   "nbconvert_exporter": "python",
   "pygments_lexer": "ipython3",
   "version": "3.6.1"
  }
 },
 "nbformat": 4,
 "nbformat_minor": 2
}
