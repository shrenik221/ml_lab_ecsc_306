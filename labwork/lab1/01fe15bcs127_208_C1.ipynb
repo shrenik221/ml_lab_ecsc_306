{
 "cells": [
  {
   "cell_type": "code",
   "execution_count": 1,
   "metadata": {},
   "outputs": [
    {
     "name": "stdout",
     "output_type": "stream",
     "text": [
      "value of x: =  [ 1.5  2.5  3.5  4.5  5.5]\n",
      "value of y: = [  6.5   7.5   8.5   9.5  10.5]\n",
      "Mean of x: =  3.5\n",
      "Mean of y: =  8.5\n",
      "Variance of x: =  2.0\n",
      "Variance of y: =  2.0\n",
      "covariance= 2.5\n",
      "value of m= 1.25\n",
      "value of c= 4.125\n",
      "value of y1= [  6.     7.25   8.5    9.75  11.  ]\n"
     ]
    }
   ],
   "source": [
    "import tensorflow as tf\n",
    "\n",
    "x = tf.constant([1.5,2.5,3.5,4.5,5.5])\n",
    "y = tf.constant([6.5,7.5,8.5,9.5,10.5])\n",
    "\n",
    "with tf.Session() as sess:\n",
    "    print('value of x: = ',sess.run(x))\n",
    "    print('value of y: =',sess.run(y))\n",
    "\n",
    "#Calculate mean of x & y\n",
    "mean_x = tf.reduce_mean(x)\n",
    "mean_y = tf.reduce_mean(y)\n",
    "\n",
    "with tf.Session() as sess:\n",
    "    print('Mean of x: = ',sess.run(mean_x))\n",
    "    print('Mean of y: = ',sess.run(mean_y))\n",
    "\n",
    "#Calculate variance for x\n",
    "#variance(x)=sum((x−mean(x))2)\n",
    "\n",
    "variance_x = tf.div(tf.reduce_sum((x - mean_x)**2),5)\n",
    "variance_y = tf.div(tf.reduce_sum((y - mean_y)**2),5)\n",
    "\n",
    "with tf.Session() as sess:\n",
    "    print('Variance of x: = ',sess.run(variance_x))\n",
    "    print('Variance of y: = ',sess.run(variance_y))\n",
    "   \n",
    "#Calculate covariance of x & y\n",
    "#covariance=sum((x(i)−mean(x))∗(y(i)−mean(y)))\n",
    "covariance = tf.div(tf.reduce_sum((x - mean_x) * (y - mean_y)),4)\n",
    "with tf.Session() as sess:\n",
    "    print('covariance=',sess.run(covariance))\n",
    "   \n",
    "#Calculate value of m\n",
    "#m=covariance(x,y)/variance(x)\n",
    "\n",
    "m = tf.div(covariance,variance_x)\n",
    "with tf.Session() as sess:\n",
    "    print('value of m=',sess.run(m))\n",
    "   \n",
    "#Calculate value of c\n",
    "#c=mean(y)−m∗mean(x)\n",
    "c = tf.subtract(mean_y, (m*mean_x))\n",
    "with tf.Session() as sess:\n",
    "    print('value of c=',sess.run(c))\n",
    "   \n",
    "#actual value\n",
    "#y1 = mx+c\n",
    "y1 = tf.add((m*x), c)\n",
    "with tf.Session() as sess:\n",
    "    print('value of y1=',sess.run(y1))"
   ]
  },
  {
   "cell_type": "code",
   "execution_count": null,
   "metadata": {
    "collapsed": true
   },
   "outputs": [],
   "source": []
  }
 ],
 "metadata": {
  "kernelspec": {
   "display_name": "Python 3",
   "language": "python",
   "name": "python3"
  },
  "language_info": {
   "codemirror_mode": {
    "name": "ipython",
    "version": 3
   },
   "file_extension": ".py",
   "mimetype": "text/x-python",
   "name": "python",
   "nbconvert_exporter": "python",
   "pygments_lexer": "ipython3",
   "version": "3.6.1"
  }
 },
 "nbformat": 4,
 "nbformat_minor": 2
}
