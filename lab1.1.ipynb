{
 "cells": [
  {
   "cell_type": "code",
   "execution_count": 1,
   "metadata": {},
   "outputs": [
    {
     "name": "stdout",
     "output_type": "stream",
     "text": [
      "Enter the values of a2\n",
      "Enter the values of b2\n",
      "16\n"
     ]
    }
   ],
   "source": [
    "import tensorflow as t\n",
    "t.reset_default_graph\n",
    "with t.name_scope(\"A_Square\"):\n",
    "    a = int(input(\"Enter the values of a\"))\n",
    "    sq_a=t.multiply(a,a)\n",
    "with t.name_scope(\"B_Square\"):\n",
    "    b = int(input(\"Enter the values of b\"))\n",
    "    sq_b=t.multiply(b,b)\n",
    "with t.name_scope(\"2ab\"):\n",
    "    e = t.multiply(2,a)\n",
    "    f= t.multiply(e,b)  \n",
    "with t.name_scope(\"AandB_square\"):\n",
    "    g = t.add(sq_a,sq_b)\n",
    "    h = t.add(g, f)\n",
    "with t.Session() as sess:\n",
    "    writer = t.summary.FileWriter(\"/tmp/tboard/output3\", sess.graph)\n",
    "    print(sess.run(h))\n",
    "\n",
    "\n",
    "\n",
    "\n",
    "\n",
    "\n",
    "\n",
    "\n",
    "\n",
    "\n",
    "\n",
    "\n"
   ]
  },
  {
   "cell_type": "code",
   "execution_count": null,
   "metadata": {
    "collapsed": true
   },
   "outputs": [],
   "source": []
  }
 ],
 "metadata": {
  "kernelspec": {
   "display_name": "Python 3",
   "language": "python",
   "name": "python3"
  },
  "language_info": {
   "codemirror_mode": {
    "name": "ipython",
    "version": 3
   },
   "file_extension": ".py",
   "mimetype": "text/x-python",
   "name": "python",
   "nbconvert_exporter": "python",
   "pygments_lexer": "ipython3",
   "version": "3.6.1"
  }
 },
 "nbformat": 4,
 "nbformat_minor": 2
}
